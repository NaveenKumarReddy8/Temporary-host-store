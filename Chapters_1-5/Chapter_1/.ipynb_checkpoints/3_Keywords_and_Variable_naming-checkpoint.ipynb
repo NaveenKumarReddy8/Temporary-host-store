{
 "cells": [
  {
   "cell_type": "markdown",
   "metadata": {
    "colab_type": "text",
    "id": "MhCFoMwuyooV"
   },
   "source": [
    "# 1.3 Python Keywords and allowed Variable names"
   ]
  },
  {
   "cell_type": "code",
   "execution_count": 1,
   "metadata": {
    "colab": {},
    "colab_type": "code",
    "id": "8r1Iy21Vyvdx"
   },
   "outputs": [],
   "source": [
    "# To retrieve the python keyword list, we can use the keyword built-in package.\n",
    "import keyword"
   ]
  },
  {
   "cell_type": "markdown",
   "metadata": {
    "colab_type": "text",
    "id": "99Y5ERcY0YhR"
   },
   "source": [
    "Let's print the keywords present.\n",
    "\n",
    "keyword.kwlist returns python's keywords in a list datatype.\n",
    "\n",
    "We are using *(starred) expression to print the values returned by keyword.kwlist each separated by \"\\n\"(newline)."
   ]
  },
  {
   "cell_type": "code",
   "execution_count": 2,
   "metadata": {
    "colab": {},
    "colab_type": "code",
    "id": "3KmgWd1TzGCv"
   },
   "outputs": [
    {
     "name": "stdout",
     "output_type": "stream",
     "text": [
      "False\n",
      "None\n",
      "True\n",
      "__peg_parser__\n",
      "and\n",
      "as\n",
      "assert\n",
      "async\n",
      "await\n",
      "break\n",
      "class\n",
      "continue\n",
      "def\n",
      "del\n",
      "elif\n",
      "else\n",
      "except\n",
      "finally\n",
      "for\n",
      "from\n",
      "global\n",
      "if\n",
      "import\n",
      "in\n",
      "is\n",
      "lambda\n",
      "nonlocal\n",
      "not\n",
      "or\n",
      "pass\n",
      "raise\n",
      "return\n",
      "try\n",
      "while\n",
      "with\n",
      "yield\n"
     ]
    }
   ],
   "source": [
    "print(*keyword.kwlist, sep=\"\\n\")"
   ]
  },
  {
   "cell_type": "markdown",
   "metadata": {
    "colab_type": "text",
    "id": "97Q7XZSe1A1i"
   },
   "source": [
    "# Variable Names\n",
    "\n",
    "TLDR: \n",
    "\n",
    "*   Variable names shouldn't be same as that of built-in keywords.\n",
    "*   Variable name shouldn't start with a number or with a symbol(except \"_\", protected and private attributes are created using underscore, 🤔 it's better to say it as name mangling rather than protected or private. That's for a different notebook session 😀).\n",
    "\n",
    "PS: Don't give a try naming the variable that starts with #, it would be a Python's comment, which would be neglected by the interpreter 😅."
   ]
  },
  {
   "cell_type": "markdown",
   "metadata": {
    "colab_type": "text",
    "id": "0hrpcjLg4QaL"
   },
   "source": [
    "### Allowed Variable names"
   ]
  },
  {
   "cell_type": "code",
   "execution_count": 3,
   "metadata": {
    "colab": {},
    "colab_type": "code",
    "id": "isvVsIHJ4VcH"
   },
   "outputs": [
    {
     "name": "stdout",
     "output_type": "stream",
     "text": [
      "x is equal to X:False\n"
     ]
    }
   ],
   "source": [
    "x = True\n",
    "_x = False\n",
    "x_y = \"Hey Python geek!\"\n",
    "x9 = \"alphabet_number\"\n",
    "X = \"one more variable\"  # Python is a case sensitive language, so `x` is different from `X`. Let's give it a try.\n",
    "print(f\"x is equal to X:{x==X}\")"
   ]
  },
  {
   "cell_type": "markdown",
   "metadata": {
    "colab_type": "text",
    "id": "15MOnXI35fnn"
   },
   "source": [
    "### Invalid Variable names"
   ]
  },
  {
   "cell_type": "markdown",
   "metadata": {
    "colab_type": "text",
    "id": "AsH_jXBI52FH"
   },
   "source": [
    "We will be using `exec` within `try`-`except` to catch the syntax error. 🤔 But why? Syntax errors can't be catched, well it shouldn't for good 😉. so we are using `exec` to execute the code. \n",
    "\n",
    "`exec` takes the string argument and interprets the string as a python code."
   ]
  },
  {
   "cell_type": "code",
   "execution_count": 4,
   "metadata": {
    "colab": {},
    "colab_type": "code",
    "id": "yg-ujR4Z5sJ8"
   },
   "outputs": [
    {
     "name": "stdout",
     "output_type": "stream",
     "text": [
      "Ouch! In the exception: invalid syntax (<string>, line 1)\n"
     ]
    }
   ],
   "source": [
    "# variable name starting with number.\n",
    "code_string = \"9x=True\"\n",
    "try:\n",
    "    exec(code_string)\n",
    "except SyntaxError as exc:\n",
    "    print(f\"Ouch! In the exception: {exc}\")"
   ]
  },
  {
   "cell_type": "code",
   "execution_count": 5,
   "metadata": {
    "colab": {},
    "colab_type": "code",
    "id": "cLehV3ZP7Q2s"
   },
   "outputs": [
    {
     "name": "stdout",
     "output_type": "stream",
     "text": [
      "Ouch! In the exception: invalid syntax (<string>, line 1)\n"
     ]
    }
   ],
   "source": [
    "# variable name starting with a symbol(other than underscore\"_\").\n",
    "code_string = \"$g = 10\"\n",
    "try:\n",
    "    exec(code_string)\n",
    "except SyntaxError as exc:\n",
    "    print(f\"Ouch! In the exception: {exc}\")"
   ]
  }
 ],
 "metadata": {
  "colab": {
   "authorship_tag": "ABX9TyNC4HtoL0a5mkhCs3agcXHM",
   "include_colab_link": true,
   "name": "Untitled4.ipynb",
   "provenance": []
  },
  "kernelspec": {
   "display_name": "Python 3",
   "language": "python",
   "name": "python3"
  },
  "language_info": {
   "codemirror_mode": {
    "name": "ipython",
    "version": 3
   },
   "file_extension": ".py",
   "mimetype": "text/x-python",
   "name": "python",
   "nbconvert_exporter": "python",
   "pygments_lexer": "ipython3",
   "version": "3.9.4"
  }
 },
 "nbformat": 4,
 "nbformat_minor": 4
}
