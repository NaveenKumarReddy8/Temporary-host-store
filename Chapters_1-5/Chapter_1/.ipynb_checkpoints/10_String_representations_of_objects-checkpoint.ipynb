{
 "cells": [
  {
   "cell_type": "markdown",
   "metadata": {},
   "source": [
    "# 1.10 String representations of objects: str() vs repr()"
   ]
  },
  {
   "cell_type": "markdown",
   "metadata": {},
   "source": [
    "`str()` and `repr()` are builtin functions used to represent the object in the form of string."
   ]
  },
  {
   "cell_type": "markdown",
   "metadata": {},
   "source": [
    "Suppose we have an object `x`.\n",
    "\n",
    "`str(x)` would be calling the dunder (double underscore) `__str__` method of `x` as `x.__str__()`\n",
    "\n",
    "`repr(x)` would be calling the dunder (double underscore) `__repr__` method of `x` as `x.__repr__()`\n"
   ]
  },
  {
   "cell_type": "markdown",
   "metadata": {},
   "source": [
    "😑 Well, what all are these new terms `__str__` and `__repr__` 🤔?\n",
    "\n",
    "As we know that Python is object oriented language, and so supports inheritance. In Python, all the classes would inherit from the base class `object`. `object` class has the methods `__str__`, `__repr__` and a lot more (which can be deepdived in someother notebook 😉). Hence every class would be having `__str__` and `__repr__` implicitly 😊"
   ]
  },
  {
   "cell_type": "markdown",
   "metadata": {},
   "source": [
    "Python's official documentations states that `__str__` should be used to represent a object which is human readable(informal), whereas `__repr__` is used for official representation of an object."
   ]
  },
  {
   "cell_type": "code",
   "execution_count": 1,
   "metadata": {},
   "outputs": [
    {
     "name": "stdout",
     "output_type": "stream",
     "text": [
      "The repr of now is: datetime.datetime(2021, 5, 26, 10, 30, 37, 142415)\n",
      "The str of now is: 2021-05-26 10:30:37.142415\n"
     ]
    }
   ],
   "source": [
    "from datetime import datetime\n",
    "\n",
    "now = datetime.now()\n",
    "\n",
    "print(f\"The repr of now is: {repr(now)}\")\n",
    "print(f\"The str of now is: {str(now)}\")"
   ]
  },
  {
   "cell_type": "code",
   "execution_count": 2,
   "metadata": {},
   "outputs": [
    {
     "name": "stdout",
     "output_type": "stream",
     "text": [
      "The repr of language_obj is: <__main__.ProgrammingLanguage object at 0x7f60bc478490>\n",
      "The str of language_obj is: <__main__.ProgrammingLanguage object at 0x7f60bc478490>\n"
     ]
    }
   ],
   "source": [
    "class ProgrammingLanguage:\n",
    "    def __init__(self, language: str):\n",
    "        self.language = language\n",
    "\n",
    "\n",
    "language_obj = ProgrammingLanguage(language=\"Python\")\n",
    "print(f\"The repr of language_obj is: {repr(language_obj)}\")\n",
    "print(f\"The str of language_obj is: {str(language_obj)}\")"
   ]
  },
  {
   "cell_type": "markdown",
   "metadata": {},
   "source": [
    "In the above example we see that output to be something like:\n",
    "\n",
    "```sh\n",
    "The repr of language_obj is: <__main__.Language object at 0x7f1580c67190>\n",
    "The str of language_obj is: <__main__.Language object at 0x7f1580c67190>\n",
    "```\n",
    "\n",
    "The address of the object might be different for everyone\n"
   ]
  },
  {
   "cell_type": "markdown",
   "metadata": {},
   "source": [
    "Now let's try to override the `__str__` and `__repr__` methods and see how the representations work"
   ]
  },
  {
   "cell_type": "code",
   "execution_count": 3,
   "metadata": {},
   "outputs": [
    {
     "name": "stdout",
     "output_type": "stream",
     "text": [
      "The repr of human_obj is: Human(name=IronMan, age=48) object at 0x7f60bc478430\n",
      "The str of human_obj is: I am IronMan of age 48\n"
     ]
    }
   ],
   "source": [
    "class Human:\n",
    "    def __init__(self, name: str, age: int):\n",
    "        self.name = name\n",
    "        self.age = age\n",
    "\n",
    "    # overriding __str__ method\n",
    "    def __str__(self):\n",
    "        return f\"I am {self.name} of age {self.age}\"\n",
    "\n",
    "    # overriding __repr__ method\n",
    "    def __repr__(self):\n",
    "        return f\"Human(name={self.name}, age={self.age}) object at {hex(id(self))}\"\n",
    "\n",
    "\n",
    "human_obj = Human(name=\"IronMan\", age=48)\n",
    "print(f\"The repr of human_obj is: {repr(human_obj)}\")\n",
    "print(f\"The str of human_obj is: {str(human_obj)}\")"
   ]
  },
  {
   "cell_type": "markdown",
   "metadata": {},
   "source": [
    "We see that the result representations of the `human_obj` have been changed as we have overridden the `__str__` and `__repr__` methods 😊"
   ]
  }
 ],
 "metadata": {
  "kernelspec": {
   "display_name": "Python 3",
   "language": "python",
   "name": "python3"
  },
  "language_info": {
   "codemirror_mode": {
    "name": "ipython",
    "version": 3
   },
   "file_extension": ".py",
   "mimetype": "text/x-python",
   "name": "python",
   "nbconvert_exporter": "python",
   "pygments_lexer": "ipython3",
   "version": "3.9.4"
  }
 },
 "nbformat": 4,
 "nbformat_minor": 4
}
