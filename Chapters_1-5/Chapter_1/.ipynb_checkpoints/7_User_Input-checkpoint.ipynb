{
 "cells": [
  {
   "cell_type": "markdown",
   "metadata": {},
   "source": [
    "# 1.7 User Input"
   ]
  },
  {
   "cell_type": "markdown",
   "metadata": {},
   "source": [
    "`input` is a builtin function in Python, which prompts for the user to enter as standard input upto newline(`\\n`).\n",
    "\n",
    "`input` function always returns a string datatype, we need to typecast to respective datatype required.\n",
    "\n",
    "Python 2.x's `input` is different from Python 3.x's `input`.\n",
    "\n",
    "Python 2.x's `input` evaluates the string as a python command, like `eval(input())` which is a riskier thing to do. Let's park this for some other time and let's see how to get the input from the user. 🚙"
   ]
  },
  {
   "cell_type": "code",
   "execution_count": 1,
   "metadata": {},
   "outputs": [
    {
     "name": "stdin",
     "output_type": "stream",
     "text": [
      "Hey Pythonist! Please enter anything Hello Pythoneer ❤️\n"
     ]
    },
    {
     "name": "stdout",
     "output_type": "stream",
     "text": [
      "Hello Pythoneer ❤️\n"
     ]
    }
   ],
   "source": [
    "user_entered = input(\"Hey Pythonist! Please enter anything\")\n",
    "print(user_entered)"
   ]
  },
  {
   "cell_type": "markdown",
   "metadata": {},
   "source": [
    "Let's try typecasting to integers we got from the user. \n",
    "\n",
    "If the input is not a valid integer value, typecasting to integer raises `ValueError`"
   ]
  },
  {
   "cell_type": "code",
   "execution_count": 2,
   "metadata": {},
   "outputs": [
    {
     "name": "stdin",
     "output_type": "stream",
     "text": [
      "Enter variable 1 to be added 6\n",
      "Enter variable 2 to be added I am not an integer 😝\n"
     ]
    },
    {
     "name": "stdout",
     "output_type": "stream",
     "text": [
      "👻 unable to typecast to integer: invalid literal for int() with base 10: 'I am not an integer 😝'\n"
     ]
    }
   ],
   "source": [
    "try:\n",
    "    variable_1 = input(\"Enter variable 1 to be added\")  # string\n",
    "    variable_2 = input(\"Enter variable 2 to be added\")  # string\n",
    "    integer_1 = int(variable_1)  # Typecasting to integer\n",
    "    integer_2 = int(variable_2)  # Typecasting to integer\n",
    "    print(f\"sum of {variable_1} and {variable_2} = {integer_1+integer_2}\")\n",
    "except ValueError as exc:\n",
    "    print(f\"👻 unable to typecast to integer: {exc}\")"
   ]
  }
 ],
 "metadata": {
  "kernelspec": {
   "display_name": "Python 3",
   "language": "python",
   "name": "python3"
  },
  "language_info": {
   "codemirror_mode": {
    "name": "ipython",
    "version": 3
   },
   "file_extension": ".py",
   "mimetype": "text/x-python",
   "name": "python",
   "nbconvert_exporter": "python",
   "pygments_lexer": "ipython3",
   "version": "3.9.4"
  }
 },
 "nbformat": 4,
 "nbformat_minor": 4
}
